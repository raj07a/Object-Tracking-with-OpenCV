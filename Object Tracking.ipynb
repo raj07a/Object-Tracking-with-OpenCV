{
 "cells": [
  {
   "cell_type": "code",
   "execution_count": 1,
   "id": "16717335",
   "metadata": {},
   "outputs": [
    {
     "ename": "error",
     "evalue": "OpenCV(4.10.0) D:\\a\\opencv-python\\opencv-python\\opencv\\modules\\core\\src\\merge.dispatch.cpp:121: error: (-215:Assertion failed) !mv[0].empty() in function 'cv::merge'\n",
     "output_type": "error",
     "traceback": [
      "\u001b[1;31m---------------------------------------------------------------------------\u001b[0m",
      "\u001b[1;31merror\u001b[0m                                     Traceback (most recent call last)",
      "Cell \u001b[1;32mIn[1], line 25\u001b[0m\n\u001b[0;32m     22\u001b[0m tracker \u001b[38;5;241m=\u001b[39m cv\u001b[38;5;241m.\u001b[39mTrackerKCF_create()\n\u001b[0;32m     24\u001b[0m \u001b[38;5;66;03m# Initialize the tracker on the selected ROI\u001b[39;00m\n\u001b[1;32m---> 25\u001b[0m tracker\u001b[38;5;241m.\u001b[39minit(frame, roi)\n\u001b[0;32m     27\u001b[0m \u001b[38;5;28;01mwhile\u001b[39;00m \u001b[38;5;28;01mTrue\u001b[39;00m:\n\u001b[0;32m     28\u001b[0m     ret, frame \u001b[38;5;241m=\u001b[39m cap\u001b[38;5;241m.\u001b[39mread()\n",
      "\u001b[1;31merror\u001b[0m: OpenCV(4.10.0) D:\\a\\opencv-python\\opencv-python\\opencv\\modules\\core\\src\\merge.dispatch.cpp:121: error: (-215:Assertion failed) !mv[0].empty() in function 'cv::merge'\n"
     ]
    }
   ],
   "source": [
    "import cv2 as cv\n",
    "\n",
    "# Load the video file\n",
    "cap = cv.VideoCapture(r\"C:\\Users\\Admin\\Desktop\\CV_Lab\\Screen Recording 2024-09-26 100444.mp4\")\n",
    "\n",
    "# Check if the video opened successfully\n",
    "if not cap.isOpened():\n",
    "    print(\"Error: Could not open video.\")\n",
    "    exit()\n",
    "\n",
    "# Read the first frame of the video\n",
    "ret, frame = cap.read()\n",
    "if not ret:\n",
    "    print(\"Error: Could not read first frame.\")\n",
    "    cap.release()\n",
    "    exit()\n",
    "\n",
    "# Select a region of interest (ROI) manually for the object you want to track\n",
    "roi = cv.selectROI(\"Select ROI\", frame, fromCenter=False, showCrosshair=True)\n",
    "\n",
    "# Create the KCF Tracker object\n",
    "tracker = cv.TrackerKCF_create()\n",
    "\n",
    "# Initialize the tracker on the selected ROI\n",
    "tracker.init(frame, roi)\n",
    "\n",
    "while True:\n",
    "    ret, frame = cap.read()\n",
    "    if not ret:\n",
    "        print(\"Error: Could not read frame.\")\n",
    "        break\n",
    "\n",
    "    # Update the tracker with the current frame\n",
    "    success, bbox = tracker.update(frame)\n",
    "\n",
    "    # If tracking was successful, draw the bounding box\n",
    "    if success:\n",
    "        x, y, w, h = [int(v) for v in bbox]\n",
    "        cv.rectangle(frame, (x, y), (x + w, y + h), (0, 255, 0), 2)\n",
    "        cv.putText(frame, \"Tracking\", (x, y - 10), cv.FONT_HERSHEY_SIMPLEX, 0.6, (0, 255, 0), 2)\n",
    "    else:\n",
    "        cv.putText(frame, \"Lost\", (50, 50), cv.FONT_HERSHEY_SIMPLEX, 0.6, (0, 0, 255), 2)\n",
    "\n",
    "    # Display the current frame\n",
    "    cv.imshow(\"Frame\", frame)\n",
    "\n",
    "    # Exit if the user presses the 'ESC' key\n",
    "    key = cv.waitKey(30)\n",
    "    if key == 27:  # ESC key\n",
    "        break\n",
    "\n",
    "# Release video capture and close all windows\n",
    "cap.release()\n",
    "cv.destroyAllWindows()\n"
   ]
  },
  {
   "cell_type": "code",
   "execution_count": null,
   "id": "71372f9f",
   "metadata": {},
   "outputs": [],
   "source": []
  }
 ],
 "metadata": {
  "kernelspec": {
   "display_name": "Python 3 (ipykernel)",
   "language": "python",
   "name": "python3"
  },
  "language_info": {
   "codemirror_mode": {
    "name": "ipython",
    "version": 3
   },
   "file_extension": ".py",
   "mimetype": "text/x-python",
   "name": "python",
   "nbconvert_exporter": "python",
   "pygments_lexer": "ipython3",
   "version": "3.11.9"
  }
 },
 "nbformat": 4,
 "nbformat_minor": 5
}
